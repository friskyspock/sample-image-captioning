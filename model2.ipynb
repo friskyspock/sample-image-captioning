{
 "cells": [
  {
   "cell_type": "code",
   "execution_count": 2,
   "metadata": {},
   "outputs": [],
   "source": [
    "from PIL import Image\n",
    "from transformers import BlipProcessor, BlipForConditionalGeneration\n",
    "import requests\n",
    "from io import BytesIO\n",
    "import os"
   ]
  },
  {
   "attachments": {},
   "cell_type": "markdown",
   "metadata": {},
   "source": [
    "## blip-image-captioning-base"
   ]
  },
  {
   "cell_type": "code",
   "execution_count": 4,
   "metadata": {},
   "outputs": [
    {
     "data": {
      "text/plain": [
       "'/workspaces/sample-image-captioning'"
      ]
     },
     "execution_count": 4,
     "metadata": {},
     "output_type": "execute_result"
    }
   ],
   "source": [
    "pwd"
   ]
  },
  {
   "cell_type": "code",
   "execution_count": 3,
   "metadata": {},
   "outputs": [
    {
     "name": "stderr",
     "output_type": "stream",
     "text": [
      "Downloading (…)rocessor_config.json: 100%|██████████| 287/287 [00:00<00:00, 687kB/s]\n",
      "Downloading (…)okenizer_config.json: 100%|██████████| 438/438 [00:00<00:00, 1.92MB/s]\n",
      "Downloading (…)solve/main/vocab.txt: 100%|██████████| 232k/232k [00:00<00:00, 79.6MB/s]\n",
      "Downloading (…)/main/tokenizer.json: 100%|██████████| 711k/711k [00:00<00:00, 1.68MB/s]\n",
      "Downloading (…)cial_tokens_map.json: 100%|██████████| 125/125 [00:00<00:00, 525kB/s]\n",
      "Downloading (…)lve/main/config.json: 100%|██████████| 4.56k/4.56k [00:00<00:00, 3.84MB/s]\n",
      "Downloading pytorch_model.bin: 100%|██████████| 990M/990M [00:05<00:00, 192MB/s] \n"
     ]
    }
   ],
   "source": [
    "processor = BlipProcessor.from_pretrained(\"Salesforce/blip-image-captioning-base\",cache_dir=\"/workspaces/sample-image-captioning/cache\")\n",
    "model = BlipForConditionalGeneration.from_pretrained(\"Salesforce/blip-image-captioning-base\",cache_dir=\"/workspaces/sample-image-captioning/cache\")"
   ]
  },
  {
   "cell_type": "code",
   "execution_count": 44,
   "metadata": {},
   "outputs": [],
   "source": [
    "processor = BlipProcessor.from_pretrained(\"cache\\models--Salesforce--blip-image-captioning-base\",local_files_only=True)\n",
    "model = BlipForConditionalGeneration.from_pretrained(\"cache\\models--Salesforce--blip-image-captioning-base\",local_files_only=True)"
   ]
  },
  {
   "cell_type": "code",
   "execution_count": 54,
   "metadata": {},
   "outputs": [],
   "source": [
    "def create_captions(image_path):\n",
    "    if os.path.isfile(image_path):\n",
    "        raw_image = Image.open(image_path)\n",
    "    else:\n",
    "        try:\n",
    "            response = requests.get(image_path)\n",
    "            raw_image = Image.open(BytesIO(response.content))\n",
    "        except:\n",
    "            print(\"Invalid url or file path\")\n",
    "    \n",
    "    if raw_image.mode != \"RGB\":\n",
    "        raw_image = raw_image.convert(mode=\"RGB\")\n",
    "    \n",
    "    inputs = processor(raw_image, return_tensors=\"pt\")\n",
    "    out = model.generate(**inputs, num_beams=3, num_return_sequences=3, max_new_tokens=40)\n",
    "\n",
    "    for i, caption in enumerate(out):\n",
    "        print(f\"Caption {i+1}: {processor.decode(caption, skip_special_tokens=True)}\")"
   ]
  },
  {
   "cell_type": "code",
   "execution_count": 48,
   "metadata": {},
   "outputs": [
    {
     "name": "stdout",
     "output_type": "stream",
     "text": [
      "Caption 1: an older woman doing a barbell exercise\n",
      "Caption 2: an older woman is doing a barbell exercise\n",
      "Caption 3: an older woman doing a barbell squat exercise\n"
     ]
    }
   ],
   "source": [
    "url = \"https://th.bing.com/th/id/R.c378c27d8ea14c9912d8a3bfa43af8d5?rik=0utUgRzIevYDuQ&riu=http%3a%2f%2fbuzznigeria.com%2fwp-content%2fuploads%2f2015%2f07%2fOld-People-Doing-Sport-Photography_9.jpg&ehk=fjLqLr4hXha1AWFAKFUG4pL70aauzLsXbKzSOfW8xV0%3d&risl=&pid=ImgRaw&r=0\"\n",
    "create_captions(url)"
   ]
  },
  {
   "cell_type": "code",
   "execution_count": 55,
   "metadata": {},
   "outputs": [
    {
     "name": "stdout",
     "output_type": "stream",
     "text": [
      "Caption 1: a soccer player running on a soccer field\n",
      "Caption 2: a soccer player is running on the field\n",
      "Caption 3: a soccer player running on a field with a ball in his hand\n"
     ]
    }
   ],
   "source": [
    "create_captions('Image1.png')"
   ]
  },
  {
   "cell_type": "code",
   "execution_count": 56,
   "metadata": {},
   "outputs": [
    {
     "name": "stdout",
     "output_type": "stream",
     "text": [
      "Caption 1: two horses standing in a field under a cloudy sky\n",
      "Caption 2: a couple of horses standing in a field\n",
      "Caption 3: two horses are standing in a field under a cloudy sky\n"
     ]
    }
   ],
   "source": [
    "create_captions('Image2.png')"
   ]
  },
  {
   "cell_type": "code",
   "execution_count": 57,
   "metadata": {},
   "outputs": [
    {
     "name": "stdout",
     "output_type": "stream",
     "text": [
      "Caption 1: an image of a group of people in a circle\n",
      "Caption 2: an image of a group of people in a circle with the words,'oraly adopt'and '\n",
      "Caption 3: an image of a group of people in a circle with the words,'oraly adopts'and\n"
     ]
    }
   ],
   "source": [
    "create_captions('Image3.png')"
   ]
  },
  {
   "attachments": {},
   "cell_type": "markdown",
   "metadata": {},
   "source": [
    "## blip-image-captioning-large"
   ]
  },
  {
   "cell_type": "code",
   "execution_count": 2,
   "metadata": {},
   "outputs": [],
   "source": [
    "processor = BlipProcessor.from_pretrained(\"Salesforce/blip-image-captioning-large\")\n",
    "model = BlipForConditionalGeneration.from_pretrained(\"Salesforce/blip-image-captioning-large\")"
   ]
  },
  {
   "cell_type": "code",
   "execution_count": 3,
   "metadata": {},
   "outputs": [],
   "source": [
    "def create_captions(image_path):\n",
    "    raw_image = Image.open(image_path)\n",
    "    if raw_image.mode != \"RGB\":\n",
    "        raw_image = raw_image.convert(mode=\"RGB\")\n",
    "    \n",
    "    inputs = processor(raw_image, return_tensors=\"pt\")\n",
    "    out = model.generate(**inputs, num_beams=3, num_return_sequences=3)\n",
    "\n",
    "    for i, caption in enumerate(out):\n",
    "        print(f\"Caption {i+1}: {processor.decode(caption, skip_special_tokens=True)}\")"
   ]
  },
  {
   "cell_type": "code",
   "execution_count": 5,
   "metadata": {},
   "outputs": [
    {
     "name": "stdout",
     "output_type": "stream",
     "text": [
      "Caption 1: there is a man that is running on the field with a soccer ball\n",
      "Caption 2: there is a man that is running with a soccer ball in his hand\n",
      "Caption 3: there is a male soccer player that is running on the field\n"
     ]
    }
   ],
   "source": [
    "create_captions('Image1.png')"
   ]
  },
  {
   "cell_type": "code",
   "execution_count": 6,
   "metadata": {},
   "outputs": [
    {
     "name": "stdout",
     "output_type": "stream",
     "text": [
      "Caption 1: there are two horses that are standing together in the field\n",
      "Caption 2: there are two horses that are standing in a field together\n",
      "Caption 3: there are two horses that are standing in the grass together\n"
     ]
    }
   ],
   "source": [
    "create_captions('Image2.png')"
   ]
  },
  {
   "cell_type": "code",
   "execution_count": 7,
   "metadata": {},
   "outputs": [
    {
     "name": "stdout",
     "output_type": "stream",
     "text": [
      "Caption 1: there is a man that is running on the field with a soccer ball\n",
      "Caption 2: there is a man that is running with a soccer ball in his hand\n",
      "Caption 3: there is a male soccer player that is running on the field\n"
     ]
    }
   ],
   "source": [
    "create_captions('Image1.png')"
   ]
  }
 ],
 "metadata": {
  "kernelspec": {
   "display_name": "Python 3",
   "language": "python",
   "name": "python3"
  },
  "language_info": {
   "codemirror_mode": {
    "name": "ipython",
    "version": 3
   },
   "file_extension": ".py",
   "mimetype": "text/x-python",
   "name": "python",
   "nbconvert_exporter": "python",
   "pygments_lexer": "ipython3",
   "version": "3.10.4"
  },
  "orig_nbformat": 4
 },
 "nbformat": 4,
 "nbformat_minor": 2
}
