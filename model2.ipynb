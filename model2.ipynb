{
 "cells": [
  {
   "cell_type": "code",
   "execution_count": 1,
   "metadata": {},
   "outputs": [],
   "source": [
    "import requests\n",
    "from PIL import Image\n",
    "from transformers import BlipProcessor, BlipForConditionalGeneration"
   ]
  },
  {
   "attachments": {},
   "cell_type": "markdown",
   "metadata": {},
   "source": [
    "## blip-image-captioning-base"
   ]
  },
  {
   "cell_type": "code",
   "execution_count": 3,
   "metadata": {},
   "outputs": [],
   "source": [
    "processor = BlipProcessor.from_pretrained(\"Salesforce/blip-image-captioning-base\")\n",
    "model = BlipForConditionalGeneration.from_pretrained(\"Salesforce/blip-image-captioning-base\")"
   ]
  },
  {
   "cell_type": "code",
   "execution_count": 5,
   "metadata": {},
   "outputs": [],
   "source": [
    "def create_captions(image_path):\n",
    "    raw_image = Image.open(image_path)\n",
    "    if raw_image.mode != \"RGB\":\n",
    "        raw_image = raw_image.convert(mode=\"RGB\")\n",
    "    \n",
    "    inputs = processor(raw_image, return_tensors=\"pt\")\n",
    "    out = model.generate(**inputs, num_beams=3, num_return_sequences=3)\n",
    "\n",
    "    for i, caption in enumerate(out):\n",
    "        print(f\"Caption {i+1}: {processor.decode(caption, skip_special_tokens=True)}\")"
   ]
  },
  {
   "cell_type": "code",
   "execution_count": 7,
   "metadata": {},
   "outputs": [
    {
     "name": "stdout",
     "output_type": "stream",
     "text": [
      "Caption 1: a soccer player running on a soccer field\n",
      "Caption 2: a soccer player is running on the field\n",
      "Caption 3: a soccer player running on a field with a ball in his hand\n"
     ]
    }
   ],
   "source": [
    "create_captions('Image1.png')"
   ]
  },
  {
   "cell_type": "code",
   "execution_count": 8,
   "metadata": {},
   "outputs": [
    {
     "name": "stdout",
     "output_type": "stream",
     "text": [
      "Caption 1: two horses standing in a field under a cloudy sky\n",
      "Caption 2: a couple of horses standing in a field\n",
      "Caption 3: two horses are standing in a field under a cloudy sky\n"
     ]
    }
   ],
   "source": [
    "create_captions('Image2.png')"
   ]
  },
  {
   "cell_type": "code",
   "execution_count": 9,
   "metadata": {},
   "outputs": [
    {
     "name": "stdout",
     "output_type": "stream",
     "text": [
      "Caption 1: an image of a group of people in a circle\n",
      "Caption 2: an image of a group of people in a circle with the words,'oraly adopt '\n",
      "Caption 3: an image of a group of people in a circle with the words,'oraly adopts\n"
     ]
    }
   ],
   "source": [
    "create_captions('Image3.png')"
   ]
  },
  {
   "attachments": {},
   "cell_type": "markdown",
   "metadata": {},
   "source": [
    "## blip-image-captioning-large"
   ]
  },
  {
   "cell_type": "code",
   "execution_count": 2,
   "metadata": {},
   "outputs": [],
   "source": [
    "processor = BlipProcessor.from_pretrained(\"Salesforce/blip-image-captioning-large\")\n",
    "model = BlipForConditionalGeneration.from_pretrained(\"Salesforce/blip-image-captioning-large\")"
   ]
  },
  {
   "cell_type": "code",
   "execution_count": 3,
   "metadata": {},
   "outputs": [],
   "source": [
    "def create_captions(image_path):\n",
    "    raw_image = Image.open(image_path)\n",
    "    if raw_image.mode != \"RGB\":\n",
    "        raw_image = raw_image.convert(mode=\"RGB\")\n",
    "    \n",
    "    inputs = processor(raw_image, return_tensors=\"pt\")\n",
    "    out = model.generate(**inputs, num_beams=3, num_return_sequences=3)\n",
    "\n",
    "    for i, caption in enumerate(out):\n",
    "        print(f\"Caption {i+1}: {processor.decode(caption, skip_special_tokens=True)}\")"
   ]
  },
  {
   "cell_type": "code",
   "execution_count": 5,
   "metadata": {},
   "outputs": [
    {
     "name": "stdout",
     "output_type": "stream",
     "text": [
      "Caption 1: there is a man that is running on the field with a soccer ball\n",
      "Caption 2: there is a man that is running with a soccer ball in his hand\n",
      "Caption 3: there is a male soccer player that is running on the field\n"
     ]
    }
   ],
   "source": [
    "create_captions('Image1.png')"
   ]
  },
  {
   "cell_type": "code",
   "execution_count": 6,
   "metadata": {},
   "outputs": [
    {
     "name": "stdout",
     "output_type": "stream",
     "text": [
      "Caption 1: there are two horses that are standing together in the field\n",
      "Caption 2: there are two horses that are standing in a field together\n",
      "Caption 3: there are two horses that are standing in the grass together\n"
     ]
    }
   ],
   "source": [
    "create_captions('Image2.png')"
   ]
  },
  {
   "cell_type": "code",
   "execution_count": 7,
   "metadata": {},
   "outputs": [
    {
     "name": "stdout",
     "output_type": "stream",
     "text": [
      "Caption 1: there is a man that is running on the field with a soccer ball\n",
      "Caption 2: there is a man that is running with a soccer ball in his hand\n",
      "Caption 3: there is a male soccer player that is running on the field\n"
     ]
    }
   ],
   "source": [
    "create_captions('Image1.png')"
   ]
  }
 ],
 "metadata": {
  "kernelspec": {
   "display_name": "Python 3",
   "language": "python",
   "name": "python3"
  },
  "language_info": {
   "codemirror_mode": {
    "name": "ipython",
    "version": 3
   },
   "file_extension": ".py",
   "mimetype": "text/x-python",
   "name": "python",
   "nbconvert_exporter": "python",
   "pygments_lexer": "ipython3",
   "version": "3.10.4"
  },
  "orig_nbformat": 4
 },
 "nbformat": 4,
 "nbformat_minor": 2
}
